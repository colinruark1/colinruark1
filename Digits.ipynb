{
  "nbformat": 4,
  "nbformat_minor": 0,
  "metadata": {
    "colab": {
      "provenance": [],
      "authorship_tag": "ABX9TyPjAQil3xOLZXH2mUGVI5cB",
      "include_colab_link": true
    },
    "kernelspec": {
      "name": "python3",
      "display_name": "Python 3"
    },
    "language_info": {
      "name": "python"
    }
  },
  "cells": [
    {
      "cell_type": "markdown",
      "metadata": {
        "id": "view-in-github",
        "colab_type": "text"
      },
      "source": [
        "<a href=\"https://colab.research.google.com/github/colinruark1/colinruark1/blob/main/Digits.ipynb\" target=\"_parent\"><img src=\"https://colab.research.google.com/assets/colab-badge.svg\" alt=\"Open In Colab\"/></a>"
      ]
    },
    {
      "cell_type": "code",
      "execution_count": 3,
      "metadata": {
        "id": "BzqolyUEvH1F"
      },
      "outputs": [],
      "source": [
        "from torchvision import datasets\n",
        "from torchvision.transforms import ToTensor"
      ]
    },
    {
      "cell_type": "code",
      "source": [
        "train_data = datasets.MNIST(\n",
        "    root = 'data',\n",
        "    train = True,\n",
        "    transform = ToTensor(),\n",
        "    download = True\n",
        ")\n",
        "\n",
        "test_data = datasets.MNIST(\n",
        "    root = 'data',\n",
        "    train = False,\n",
        "    transform = ToTensor(),\n",
        "    download = True\n",
        ")"
      ],
      "metadata": {
        "colab": {
          "base_uri": "https://localhost:8080/"
        },
        "id": "oGyElIRdw2YJ",
        "outputId": "5376ac56-4820-41e6-8b02-6b1f569772db"
      },
      "execution_count": 4,
      "outputs": [
        {
          "output_type": "stream",
          "name": "stdout",
          "text": [
            "Downloading http://yann.lecun.com/exdb/mnist/train-images-idx3-ubyte.gz\n",
            "Failed to download (trying next):\n",
            "<urlopen error [SSL: CERTIFICATE_VERIFY_FAILED] certificate verify failed: certificate has expired (_ssl.c:1007)>\n",
            "\n",
            "Downloading https://ossci-datasets.s3.amazonaws.com/mnist/train-images-idx3-ubyte.gz\n",
            "Downloading https://ossci-datasets.s3.amazonaws.com/mnist/train-images-idx3-ubyte.gz to data/MNIST/raw/train-images-idx3-ubyte.gz\n"
          ]
        },
        {
          "output_type": "stream",
          "name": "stderr",
          "text": [
            "100%|██████████| 9.91M/9.91M [00:00<00:00, 51.0MB/s]\n"
          ]
        },
        {
          "output_type": "stream",
          "name": "stdout",
          "text": [
            "Extracting data/MNIST/raw/train-images-idx3-ubyte.gz to data/MNIST/raw\n",
            "\n",
            "Downloading http://yann.lecun.com/exdb/mnist/train-labels-idx1-ubyte.gz\n",
            "Failed to download (trying next):\n",
            "<urlopen error [SSL: CERTIFICATE_VERIFY_FAILED] certificate verify failed: certificate has expired (_ssl.c:1007)>\n",
            "\n",
            "Downloading https://ossci-datasets.s3.amazonaws.com/mnist/train-labels-idx1-ubyte.gz\n",
            "Downloading https://ossci-datasets.s3.amazonaws.com/mnist/train-labels-idx1-ubyte.gz to data/MNIST/raw/train-labels-idx1-ubyte.gz\n"
          ]
        },
        {
          "output_type": "stream",
          "name": "stderr",
          "text": [
            "100%|██████████| 28.9k/28.9k [00:00<00:00, 1.80MB/s]"
          ]
        },
        {
          "output_type": "stream",
          "name": "stdout",
          "text": [
            "Extracting data/MNIST/raw/train-labels-idx1-ubyte.gz to data/MNIST/raw\n",
            "\n",
            "Downloading http://yann.lecun.com/exdb/mnist/t10k-images-idx3-ubyte.gz\n"
          ]
        },
        {
          "output_type": "stream",
          "name": "stderr",
          "text": [
            "\n"
          ]
        },
        {
          "output_type": "stream",
          "name": "stdout",
          "text": [
            "Failed to download (trying next):\n",
            "<urlopen error [SSL: CERTIFICATE_VERIFY_FAILED] certificate verify failed: certificate has expired (_ssl.c:1007)>\n",
            "\n",
            "Downloading https://ossci-datasets.s3.amazonaws.com/mnist/t10k-images-idx3-ubyte.gz\n",
            "Downloading https://ossci-datasets.s3.amazonaws.com/mnist/t10k-images-idx3-ubyte.gz to data/MNIST/raw/t10k-images-idx3-ubyte.gz\n"
          ]
        },
        {
          "output_type": "stream",
          "name": "stderr",
          "text": [
            "100%|██████████| 1.65M/1.65M [00:00<00:00, 13.4MB/s]\n"
          ]
        },
        {
          "output_type": "stream",
          "name": "stdout",
          "text": [
            "Extracting data/MNIST/raw/t10k-images-idx3-ubyte.gz to data/MNIST/raw\n",
            "\n",
            "Downloading http://yann.lecun.com/exdb/mnist/t10k-labels-idx1-ubyte.gz\n",
            "Failed to download (trying next):\n",
            "<urlopen error [SSL: CERTIFICATE_VERIFY_FAILED] certificate verify failed: certificate has expired (_ssl.c:1007)>\n",
            "\n",
            "Downloading https://ossci-datasets.s3.amazonaws.com/mnist/t10k-labels-idx1-ubyte.gz\n",
            "Downloading https://ossci-datasets.s3.amazonaws.com/mnist/t10k-labels-idx1-ubyte.gz to data/MNIST/raw/t10k-labels-idx1-ubyte.gz\n"
          ]
        },
        {
          "output_type": "stream",
          "name": "stderr",
          "text": [
            "100%|██████████| 4.54k/4.54k [00:00<00:00, 4.23MB/s]"
          ]
        },
        {
          "output_type": "stream",
          "name": "stdout",
          "text": [
            "Extracting data/MNIST/raw/t10k-labels-idx1-ubyte.gz to data/MNIST/raw\n",
            "\n"
          ]
        },
        {
          "output_type": "stream",
          "name": "stderr",
          "text": [
            "\n"
          ]
        }
      ]
    },
    {
      "cell_type": "code",
      "source": [
        "train_data"
      ],
      "metadata": {
        "colab": {
          "base_uri": "https://localhost:8080/"
        },
        "id": "GfwafXtRxOgH",
        "outputId": "07edb8e2-0193-4fe0-c116-da7a3a162c2a"
      },
      "execution_count": 10,
      "outputs": [
        {
          "output_type": "execute_result",
          "data": {
            "text/plain": [
              "Dataset MNIST\n",
              "    Number of datapoints: 60000\n",
              "    Root location: data\n",
              "    Split: Train\n",
              "    StandardTransform\n",
              "Transform: ToTensor()"
            ]
          },
          "metadata": {},
          "execution_count": 10
        }
      ]
    },
    {
      "cell_type": "code",
      "source": [
        "test_data"
      ],
      "metadata": {
        "colab": {
          "base_uri": "https://localhost:8080/"
        },
        "id": "EiQKI-1XxQ99",
        "outputId": "f0f35e9d-fbee-4cdc-ca9f-25a1d1868d91"
      },
      "execution_count": 6,
      "outputs": [
        {
          "output_type": "execute_result",
          "data": {
            "text/plain": [
              "Dataset MNIST\n",
              "    Number of datapoints: 10000\n",
              "    Root location: data\n",
              "    Split: Test\n",
              "    StandardTransform\n",
              "Transform: ToTensor()"
            ]
          },
          "metadata": {},
          "execution_count": 6
        }
      ]
    },
    {
      "cell_type": "code",
      "source": [
        "train_data.data.size()"
      ],
      "metadata": {
        "colab": {
          "base_uri": "https://localhost:8080/"
        },
        "id": "JiuAE_Zcy6AB",
        "outputId": "75720b91-4ee6-471a-b28d-6aed37b08591"
      },
      "execution_count": 13,
      "outputs": [
        {
          "output_type": "execute_result",
          "data": {
            "text/plain": [
              "torch.Size([60000, 28, 28])"
            ]
          },
          "metadata": {},
          "execution_count": 13
        }
      ]
    },
    {
      "cell_type": "code",
      "source": [
        "test_data.data.shape"
      ],
      "metadata": {
        "colab": {
          "base_uri": "https://localhost:8080/"
        },
        "id": "CADNc6Cly_gl",
        "outputId": "bfbf411a-33b0-4ee2-c885-94d5ac356b1b"
      },
      "execution_count": 14,
      "outputs": [
        {
          "output_type": "execute_result",
          "data": {
            "text/plain": [
              "torch.Size([10000, 28, 28])"
            ]
          },
          "metadata": {},
          "execution_count": 14
        }
      ]
    },
    {
      "cell_type": "code",
      "source": [
        "train_data.targets"
      ],
      "metadata": {
        "colab": {
          "base_uri": "https://localhost:8080/"
        },
        "id": "8VW0-_aUzHTR",
        "outputId": "d3dbbfff-91d4-407c-93ac-dbb152936c2a"
      },
      "execution_count": 17,
      "outputs": [
        {
          "output_type": "execute_result",
          "data": {
            "text/plain": [
              "tensor([5, 0, 4,  ..., 5, 6, 8])"
            ]
          },
          "metadata": {},
          "execution_count": 17
        }
      ]
    },
    {
      "cell_type": "code",
      "source": [
        "from torch.utils.data import DataLoader\n",
        "\n",
        "loaders = {\n",
        "    'train': DataLoader(train_data,\n",
        "                        batch_size=100,\n",
        "                        shuffle=True,\n",
        "                        num_workers=1),\n",
        "\n",
        "    'test': DataLoader(test_data,\n",
        "                        batch_size=100,\n",
        "                        shuffle=True,\n",
        "                        num_workers=1),\n",
        "}"
      ],
      "metadata": {
        "id": "Zb5enjC7zM9w"
      },
      "execution_count": 18,
      "outputs": []
    },
    {
      "cell_type": "code",
      "source": [
        "loaders"
      ],
      "metadata": {
        "colab": {
          "base_uri": "https://localhost:8080/"
        },
        "id": "M28zcsaPzfcG",
        "outputId": "fdb2b141-ec9c-45e0-9a3d-fc884a5d00ab"
      },
      "execution_count": 19,
      "outputs": [
        {
          "output_type": "execute_result",
          "data": {
            "text/plain": [
              "{'train': <torch.utils.data.dataloader.DataLoader at 0x7e631a707f70>,\n",
              " 'test': <torch.utils.data.dataloader.DataLoader at 0x7e631a706080>}"
            ]
          },
          "metadata": {},
          "execution_count": 19
        }
      ]
    },
    {
      "cell_type": "code",
      "source": [
        "import torch.nn as nn\n",
        "import torch.nn.functional as F\n",
        "import torch.optim as optim\n",
        "\n",
        "class CNN(nn.Module):\n",
        "\n",
        "    def __init__(self):\n",
        "        super(CNN, self).__init__()\n",
        "\n",
        "        self.conv1 = nn.Conv2d(1, 10, kernel_size=5)\n",
        "        self.conv2 = nn.Conv2d(10, 20, kernel_size=5)\n",
        "        self.conv2_drop = nn.Dropout2d()\n",
        "        self.fc1 = nn.Linear(320, 50)\n",
        "        self.fc2 = nn.Linear(50, 10)\n",
        "\n",
        "    def forward(self, x):\n",
        "        x = F.relu(F.max_pool2d(self.conv1(x), 2))\n",
        "        x = F.relu(F.max_pool2d(self.conv2_drop(self.conv2(x)), 2))\n",
        "        x = x.view(-1, 320)\n",
        "        x = F.relu(self.fc1(x))\n",
        "        x = F.dropout(x, training=self.training)\n",
        "        x = self.fc2(x)\n",
        "\n",
        "        return F.softmax(x)"
      ],
      "metadata": {
        "id": "ShxywUEkzgwr"
      },
      "execution_count": 25,
      "outputs": []
    },
    {
      "cell_type": "code",
      "source": [
        "import torch\n",
        "\n",
        "device = torch.device('cuda' if torch.cuda.is_available() else 'cpu')\n",
        "\n",
        "model = CNN().to(device)\n",
        "optimizer = optim.Adam(model.parameters(), lr=0.001)\n",
        "\n",
        "loss_fn = nn.CrossEntropyLoss()\n",
        "\n",
        "def train(epoch):\n",
        "    model.train()\n",
        "    for batch_idx, (data, target) in enumerate(loaders['train']):\n",
        "      data, target = data.to(device), target.to(device)\n",
        "      optimizer.zero_grad()\n",
        "      output = model(data)\n",
        "      loss = loss_fn(output, target)\n",
        "      loss.backward()\n",
        "      optimizer.step()\n",
        "      if batch_idx % 20 == 0:\n",
        "          print(f'Train Epoch: {epoch} [{batch_idx * len(data)}/{len(loaders[\"train\"].dataset)} ({100. * batch_idx / len(loaders[\"train\"]):.0f}%)]\\t{loss.item():.6f}')\n",
        "\n",
        "def test():\n",
        "  model.eval()\n",
        "\n",
        "  test_loss = 0\n",
        "  correct = 0\n",
        "\n",
        "  with torch.no_grad():\n",
        "      for data, target in loaders['test']:\n",
        "          data, target = data.to(device), target.to(device)\n",
        "          output = model(data)\n",
        "          test_loss += loss_fn(output, target).item()\n",
        "          pred = output.argmax(dim=1, keepdim=True)\n",
        "          correct += pred.eq(target.view_as(pred)).sum().item()\n",
        "\n",
        "  test_loss /= len(loaders['test'].dataset)\n",
        "  print(f'\\nTest set: Average loss: {test_loss:.4f}, Accuracy {correct}/{len(loaders[\"test\"].dataset)} ({100. * correct / len(loaders[\"test\"].dataset):.0f})')\n"
      ],
      "metadata": {
        "id": "xLBNkNiR1GCB"
      },
      "execution_count": 26,
      "outputs": []
    },
    {
      "cell_type": "code",
      "source": [
        "for epoch in range(1, 11):\n",
        "  train(epoch)\n",
        "  test()"
      ],
      "metadata": {
        "colab": {
          "base_uri": "https://localhost:8080/"
        },
        "id": "ArpqHu5nMHwr",
        "outputId": "f285a548-875d-4bf0-d63f-b55002433c95"
      },
      "execution_count": 27,
      "outputs": [
        {
          "output_type": "stream",
          "name": "stderr",
          "text": [
            "<ipython-input-25-b188f6dd4502>:24: UserWarning: Implicit dimension choice for softmax has been deprecated. Change the call to include dim=X as an argument.\n",
            "  return F.softmax(x)\n"
          ]
        },
        {
          "output_type": "stream",
          "name": "stdout",
          "text": [
            "Train Epoch: 1 [0/60000 (0%)]\t2.302073\n",
            "Train Epoch: 1 [2000/60000 (3%)]\t2.291734\n",
            "Train Epoch: 1 [4000/60000 (7%)]\t2.212390\n",
            "Train Epoch: 1 [6000/60000 (10%)]\t2.002113\n",
            "Train Epoch: 1 [8000/60000 (13%)]\t1.868797\n",
            "Train Epoch: 1 [10000/60000 (17%)]\t1.776224\n",
            "Train Epoch: 1 [12000/60000 (20%)]\t1.767582\n",
            "Train Epoch: 1 [14000/60000 (23%)]\t1.770310\n",
            "Train Epoch: 1 [16000/60000 (27%)]\t1.739507\n",
            "Train Epoch: 1 [18000/60000 (30%)]\t1.737608\n",
            "Train Epoch: 1 [20000/60000 (33%)]\t1.708836\n",
            "Train Epoch: 1 [22000/60000 (37%)]\t1.675818\n",
            "Train Epoch: 1 [24000/60000 (40%)]\t1.677040\n",
            "Train Epoch: 1 [26000/60000 (43%)]\t1.579425\n",
            "Train Epoch: 1 [28000/60000 (47%)]\t1.624717\n",
            "Train Epoch: 1 [30000/60000 (50%)]\t1.664983\n",
            "Train Epoch: 1 [32000/60000 (53%)]\t1.633717\n",
            "Train Epoch: 1 [34000/60000 (57%)]\t1.623083\n",
            "Train Epoch: 1 [36000/60000 (60%)]\t1.615732\n",
            "Train Epoch: 1 [38000/60000 (63%)]\t1.646287\n",
            "Train Epoch: 1 [40000/60000 (67%)]\t1.577367\n",
            "Train Epoch: 1 [42000/60000 (70%)]\t1.640124\n",
            "Train Epoch: 1 [44000/60000 (73%)]\t1.565590\n",
            "Train Epoch: 1 [46000/60000 (77%)]\t1.640648\n",
            "Train Epoch: 1 [48000/60000 (80%)]\t1.578280\n",
            "Train Epoch: 1 [50000/60000 (83%)]\t1.553239\n",
            "Train Epoch: 1 [52000/60000 (87%)]\t1.575905\n",
            "Train Epoch: 1 [54000/60000 (90%)]\t1.552404\n",
            "Train Epoch: 1 [56000/60000 (93%)]\t1.582877\n",
            "Train Epoch: 1 [58000/60000 (97%)]\t1.591671\n",
            "\n",
            "Test set: Average loss: 0.0152, Accuract 9425/10000 (94)\n",
            "Train Epoch: 2 [0/60000 (0%)]\t1.592967\n",
            "Train Epoch: 2 [2000/60000 (3%)]\t1.570791\n",
            "Train Epoch: 2 [4000/60000 (7%)]\t1.593276\n",
            "Train Epoch: 2 [6000/60000 (10%)]\t1.591736\n",
            "Train Epoch: 2 [8000/60000 (13%)]\t1.569680\n",
            "Train Epoch: 2 [10000/60000 (17%)]\t1.579807\n",
            "Train Epoch: 2 [12000/60000 (20%)]\t1.582102\n",
            "Train Epoch: 2 [14000/60000 (23%)]\t1.596051\n",
            "Train Epoch: 2 [16000/60000 (27%)]\t1.533540\n",
            "Train Epoch: 2 [18000/60000 (30%)]\t1.542676\n",
            "Train Epoch: 2 [20000/60000 (33%)]\t1.588753\n",
            "Train Epoch: 2 [22000/60000 (37%)]\t1.587931\n",
            "Train Epoch: 2 [24000/60000 (40%)]\t1.598835\n",
            "Train Epoch: 2 [26000/60000 (43%)]\t1.584142\n",
            "Train Epoch: 2 [28000/60000 (47%)]\t1.580703\n",
            "Train Epoch: 2 [30000/60000 (50%)]\t1.533227\n",
            "Train Epoch: 2 [32000/60000 (53%)]\t1.573962\n",
            "Train Epoch: 2 [34000/60000 (57%)]\t1.519562\n",
            "Train Epoch: 2 [36000/60000 (60%)]\t1.579283\n",
            "Train Epoch: 2 [38000/60000 (63%)]\t1.585573\n",
            "Train Epoch: 2 [40000/60000 (67%)]\t1.533575\n",
            "Train Epoch: 2 [42000/60000 (70%)]\t1.617877\n",
            "Train Epoch: 2 [44000/60000 (73%)]\t1.523043\n",
            "Train Epoch: 2 [46000/60000 (77%)]\t1.577071\n",
            "Train Epoch: 2 [48000/60000 (80%)]\t1.526618\n",
            "Train Epoch: 2 [50000/60000 (83%)]\t1.537266\n",
            "Train Epoch: 2 [52000/60000 (87%)]\t1.595366\n",
            "Train Epoch: 2 [54000/60000 (90%)]\t1.596063\n",
            "Train Epoch: 2 [56000/60000 (93%)]\t1.518152\n",
            "Train Epoch: 2 [58000/60000 (97%)]\t1.520619\n",
            "\n",
            "Test set: Average loss: 0.0151, Accuract 9562/10000 (96)\n",
            "Train Epoch: 3 [0/60000 (0%)]\t1.583813\n",
            "Train Epoch: 3 [2000/60000 (3%)]\t1.511120\n",
            "Train Epoch: 3 [4000/60000 (7%)]\t1.550708\n",
            "Train Epoch: 3 [6000/60000 (10%)]\t1.527073\n",
            "Train Epoch: 3 [8000/60000 (13%)]\t1.547988\n",
            "Train Epoch: 3 [10000/60000 (17%)]\t1.564766\n",
            "Train Epoch: 3 [12000/60000 (20%)]\t1.550046\n",
            "Train Epoch: 3 [14000/60000 (23%)]\t1.574454\n",
            "Train Epoch: 3 [16000/60000 (27%)]\t1.554367\n",
            "Train Epoch: 3 [18000/60000 (30%)]\t1.577691\n",
            "Train Epoch: 3 [20000/60000 (33%)]\t1.563141\n",
            "Train Epoch: 3 [22000/60000 (37%)]\t1.593068\n",
            "Train Epoch: 3 [24000/60000 (40%)]\t1.629206\n",
            "Train Epoch: 3 [26000/60000 (43%)]\t1.525275\n",
            "Train Epoch: 3 [28000/60000 (47%)]\t1.548306\n",
            "Train Epoch: 3 [30000/60000 (50%)]\t1.614774\n",
            "Train Epoch: 3 [32000/60000 (53%)]\t1.557980\n",
            "Train Epoch: 3 [34000/60000 (57%)]\t1.562000\n",
            "Train Epoch: 3 [36000/60000 (60%)]\t1.525787\n",
            "Train Epoch: 3 [38000/60000 (63%)]\t1.581433\n",
            "Train Epoch: 3 [40000/60000 (67%)]\t1.527652\n",
            "Train Epoch: 3 [42000/60000 (70%)]\t1.532725\n",
            "Train Epoch: 3 [44000/60000 (73%)]\t1.484478\n",
            "Train Epoch: 3 [46000/60000 (77%)]\t1.535233\n",
            "Train Epoch: 3 [48000/60000 (80%)]\t1.530118\n",
            "Train Epoch: 3 [50000/60000 (83%)]\t1.502949\n",
            "Train Epoch: 3 [52000/60000 (87%)]\t1.534065\n",
            "Train Epoch: 3 [54000/60000 (90%)]\t1.521834\n",
            "Train Epoch: 3 [56000/60000 (93%)]\t1.528095\n",
            "Train Epoch: 3 [58000/60000 (97%)]\t1.572848\n",
            "\n",
            "Test set: Average loss: 0.0150, Accuract 9610/10000 (96)\n",
            "Train Epoch: 4 [0/60000 (0%)]\t1.568381\n",
            "Train Epoch: 4 [2000/60000 (3%)]\t1.532591\n",
            "Train Epoch: 4 [4000/60000 (7%)]\t1.551190\n",
            "Train Epoch: 4 [6000/60000 (10%)]\t1.538627\n",
            "Train Epoch: 4 [8000/60000 (13%)]\t1.561351\n",
            "Train Epoch: 4 [10000/60000 (17%)]\t1.544017\n",
            "Train Epoch: 4 [12000/60000 (20%)]\t1.518483\n",
            "Train Epoch: 4 [14000/60000 (23%)]\t1.541187\n",
            "Train Epoch: 4 [16000/60000 (27%)]\t1.562104\n",
            "Train Epoch: 4 [18000/60000 (30%)]\t1.550260\n",
            "Train Epoch: 4 [20000/60000 (33%)]\t1.515403\n",
            "Train Epoch: 4 [22000/60000 (37%)]\t1.513591\n",
            "Train Epoch: 4 [24000/60000 (40%)]\t1.542211\n",
            "Train Epoch: 4 [26000/60000 (43%)]\t1.550734\n",
            "Train Epoch: 4 [28000/60000 (47%)]\t1.507479\n",
            "Train Epoch: 4 [30000/60000 (50%)]\t1.549901\n",
            "Train Epoch: 4 [32000/60000 (53%)]\t1.554330\n",
            "Train Epoch: 4 [34000/60000 (57%)]\t1.524564\n",
            "Train Epoch: 4 [36000/60000 (60%)]\t1.536402\n",
            "Train Epoch: 4 [38000/60000 (63%)]\t1.526181\n",
            "Train Epoch: 4 [40000/60000 (67%)]\t1.519649\n",
            "Train Epoch: 4 [42000/60000 (70%)]\t1.540558\n",
            "Train Epoch: 4 [44000/60000 (73%)]\t1.570211\n",
            "Train Epoch: 4 [46000/60000 (77%)]\t1.557514\n",
            "Train Epoch: 4 [48000/60000 (80%)]\t1.568595\n",
            "Train Epoch: 4 [50000/60000 (83%)]\t1.554286\n",
            "Train Epoch: 4 [52000/60000 (87%)]\t1.539038\n",
            "Train Epoch: 4 [54000/60000 (90%)]\t1.581632\n",
            "Train Epoch: 4 [56000/60000 (93%)]\t1.563829\n",
            "Train Epoch: 4 [58000/60000 (97%)]\t1.583041\n",
            "\n",
            "Test set: Average loss: 0.0149, Accuract 9676/10000 (97)\n",
            "Train Epoch: 5 [0/60000 (0%)]\t1.520663\n",
            "Train Epoch: 5 [2000/60000 (3%)]\t1.527685\n",
            "Train Epoch: 5 [4000/60000 (7%)]\t1.527505\n",
            "Train Epoch: 5 [6000/60000 (10%)]\t1.499709\n",
            "Train Epoch: 5 [8000/60000 (13%)]\t1.519244\n",
            "Train Epoch: 5 [10000/60000 (17%)]\t1.565638\n",
            "Train Epoch: 5 [12000/60000 (20%)]\t1.542452\n",
            "Train Epoch: 5 [14000/60000 (23%)]\t1.523106\n",
            "Train Epoch: 5 [16000/60000 (27%)]\t1.578390\n",
            "Train Epoch: 5 [18000/60000 (30%)]\t1.535257\n",
            "Train Epoch: 5 [20000/60000 (33%)]\t1.523296\n",
            "Train Epoch: 5 [22000/60000 (37%)]\t1.538848\n",
            "Train Epoch: 5 [24000/60000 (40%)]\t1.559376\n",
            "Train Epoch: 5 [26000/60000 (43%)]\t1.524001\n",
            "Train Epoch: 5 [28000/60000 (47%)]\t1.553771\n",
            "Train Epoch: 5 [30000/60000 (50%)]\t1.605976\n",
            "Train Epoch: 5 [32000/60000 (53%)]\t1.525677\n",
            "Train Epoch: 5 [34000/60000 (57%)]\t1.535296\n",
            "Train Epoch: 5 [36000/60000 (60%)]\t1.563903\n",
            "Train Epoch: 5 [38000/60000 (63%)]\t1.516137\n",
            "Train Epoch: 5 [40000/60000 (67%)]\t1.560578\n",
            "Train Epoch: 5 [42000/60000 (70%)]\t1.523937\n",
            "Train Epoch: 5 [44000/60000 (73%)]\t1.525299\n",
            "Train Epoch: 5 [46000/60000 (77%)]\t1.554247\n",
            "Train Epoch: 5 [48000/60000 (80%)]\t1.521322\n",
            "Train Epoch: 5 [50000/60000 (83%)]\t1.561469\n",
            "Train Epoch: 5 [52000/60000 (87%)]\t1.548447\n",
            "Train Epoch: 5 [54000/60000 (90%)]\t1.533122\n",
            "Train Epoch: 5 [56000/60000 (93%)]\t1.540663\n",
            "Train Epoch: 5 [58000/60000 (97%)]\t1.528752\n",
            "\n",
            "Test set: Average loss: 0.0149, Accuract 9695/10000 (97)\n",
            "Train Epoch: 6 [0/60000 (0%)]\t1.536800\n",
            "Train Epoch: 6 [2000/60000 (3%)]\t1.574021\n",
            "Train Epoch: 6 [4000/60000 (7%)]\t1.544251\n",
            "Train Epoch: 6 [6000/60000 (10%)]\t1.556215\n",
            "Train Epoch: 6 [8000/60000 (13%)]\t1.542467\n",
            "Train Epoch: 6 [10000/60000 (17%)]\t1.511947\n",
            "Train Epoch: 6 [12000/60000 (20%)]\t1.510067\n",
            "Train Epoch: 6 [14000/60000 (23%)]\t1.502309\n",
            "Train Epoch: 6 [16000/60000 (27%)]\t1.505073\n",
            "Train Epoch: 6 [18000/60000 (30%)]\t1.526466\n",
            "Train Epoch: 6 [20000/60000 (33%)]\t1.514281\n",
            "Train Epoch: 6 [22000/60000 (37%)]\t1.475752\n",
            "Train Epoch: 6 [24000/60000 (40%)]\t1.528550\n",
            "Train Epoch: 6 [26000/60000 (43%)]\t1.521930\n",
            "Train Epoch: 6 [28000/60000 (47%)]\t1.526070\n",
            "Train Epoch: 6 [30000/60000 (50%)]\t1.563848\n",
            "Train Epoch: 6 [32000/60000 (53%)]\t1.521169\n",
            "Train Epoch: 6 [34000/60000 (57%)]\t1.546492\n",
            "Train Epoch: 6 [36000/60000 (60%)]\t1.551946\n",
            "Train Epoch: 6 [38000/60000 (63%)]\t1.538688\n",
            "Train Epoch: 6 [40000/60000 (67%)]\t1.525754\n",
            "Train Epoch: 6 [42000/60000 (70%)]\t1.519731\n",
            "Train Epoch: 6 [44000/60000 (73%)]\t1.538244\n",
            "Train Epoch: 6 [46000/60000 (77%)]\t1.532886\n",
            "Train Epoch: 6 [48000/60000 (80%)]\t1.547608\n",
            "Train Epoch: 6 [50000/60000 (83%)]\t1.520261\n",
            "Train Epoch: 6 [52000/60000 (87%)]\t1.600801\n",
            "Train Epoch: 6 [54000/60000 (90%)]\t1.498094\n",
            "Train Epoch: 6 [56000/60000 (93%)]\t1.529727\n",
            "Train Epoch: 6 [58000/60000 (97%)]\t1.511778\n",
            "\n",
            "Test set: Average loss: 0.0149, Accuract 9706/10000 (97)\n",
            "Train Epoch: 7 [0/60000 (0%)]\t1.576252\n",
            "Train Epoch: 7 [2000/60000 (3%)]\t1.526992\n",
            "Train Epoch: 7 [4000/60000 (7%)]\t1.525079\n",
            "Train Epoch: 7 [6000/60000 (10%)]\t1.540089\n",
            "Train Epoch: 7 [8000/60000 (13%)]\t1.522549\n",
            "Train Epoch: 7 [10000/60000 (17%)]\t1.506507\n",
            "Train Epoch: 7 [12000/60000 (20%)]\t1.516490\n",
            "Train Epoch: 7 [14000/60000 (23%)]\t1.528589\n",
            "Train Epoch: 7 [16000/60000 (27%)]\t1.512699\n",
            "Train Epoch: 7 [18000/60000 (30%)]\t1.526088\n",
            "Train Epoch: 7 [20000/60000 (33%)]\t1.526451\n",
            "Train Epoch: 7 [22000/60000 (37%)]\t1.555298\n",
            "Train Epoch: 7 [24000/60000 (40%)]\t1.487409\n",
            "Train Epoch: 7 [26000/60000 (43%)]\t1.503315\n",
            "Train Epoch: 7 [28000/60000 (47%)]\t1.550484\n",
            "Train Epoch: 7 [30000/60000 (50%)]\t1.594444\n",
            "Train Epoch: 7 [32000/60000 (53%)]\t1.546347\n",
            "Train Epoch: 7 [34000/60000 (57%)]\t1.526537\n",
            "Train Epoch: 7 [36000/60000 (60%)]\t1.530457\n",
            "Train Epoch: 7 [38000/60000 (63%)]\t1.532451\n",
            "Train Epoch: 7 [40000/60000 (67%)]\t1.473384\n",
            "Train Epoch: 7 [42000/60000 (70%)]\t1.532270\n",
            "Train Epoch: 7 [44000/60000 (73%)]\t1.523603\n",
            "Train Epoch: 7 [46000/60000 (77%)]\t1.537336\n",
            "Train Epoch: 7 [48000/60000 (80%)]\t1.519598\n",
            "Train Epoch: 7 [50000/60000 (83%)]\t1.529798\n",
            "Train Epoch: 7 [52000/60000 (87%)]\t1.499622\n",
            "Train Epoch: 7 [54000/60000 (90%)]\t1.510004\n",
            "Train Epoch: 7 [56000/60000 (93%)]\t1.484107\n",
            "Train Epoch: 7 [58000/60000 (97%)]\t1.529756\n",
            "\n",
            "Test set: Average loss: 0.0149, Accuract 9749/10000 (97)\n",
            "Train Epoch: 8 [0/60000 (0%)]\t1.568217\n",
            "Train Epoch: 8 [2000/60000 (3%)]\t1.542689\n",
            "Train Epoch: 8 [4000/60000 (7%)]\t1.551401\n",
            "Train Epoch: 8 [6000/60000 (10%)]\t1.528150\n",
            "Train Epoch: 8 [8000/60000 (13%)]\t1.542396\n",
            "Train Epoch: 8 [10000/60000 (17%)]\t1.526297\n",
            "Train Epoch: 8 [12000/60000 (20%)]\t1.517577\n",
            "Train Epoch: 8 [14000/60000 (23%)]\t1.497232\n",
            "Train Epoch: 8 [16000/60000 (27%)]\t1.497945\n",
            "Train Epoch: 8 [18000/60000 (30%)]\t1.519363\n",
            "Train Epoch: 8 [20000/60000 (33%)]\t1.499470\n",
            "Train Epoch: 8 [22000/60000 (37%)]\t1.501232\n",
            "Train Epoch: 8 [24000/60000 (40%)]\t1.510020\n",
            "Train Epoch: 8 [26000/60000 (43%)]\t1.540212\n",
            "Train Epoch: 8 [28000/60000 (47%)]\t1.498383\n",
            "Train Epoch: 8 [30000/60000 (50%)]\t1.530279\n",
            "Train Epoch: 8 [32000/60000 (53%)]\t1.513522\n",
            "Train Epoch: 8 [34000/60000 (57%)]\t1.524105\n",
            "Train Epoch: 8 [36000/60000 (60%)]\t1.542601\n",
            "Train Epoch: 8 [38000/60000 (63%)]\t1.523342\n",
            "Train Epoch: 8 [40000/60000 (67%)]\t1.530223\n",
            "Train Epoch: 8 [42000/60000 (70%)]\t1.519626\n",
            "Train Epoch: 8 [44000/60000 (73%)]\t1.532748\n",
            "Train Epoch: 8 [46000/60000 (77%)]\t1.546988\n",
            "Train Epoch: 8 [48000/60000 (80%)]\t1.505878\n",
            "Train Epoch: 8 [50000/60000 (83%)]\t1.551499\n",
            "Train Epoch: 8 [52000/60000 (87%)]\t1.495277\n",
            "Train Epoch: 8 [54000/60000 (90%)]\t1.546769\n",
            "Train Epoch: 8 [56000/60000 (93%)]\t1.524840\n",
            "Train Epoch: 8 [58000/60000 (97%)]\t1.515634\n",
            "\n",
            "Test set: Average loss: 0.0149, Accuract 9749/10000 (97)\n",
            "Train Epoch: 9 [0/60000 (0%)]\t1.507154\n",
            "Train Epoch: 9 [2000/60000 (3%)]\t1.526787\n",
            "Train Epoch: 9 [4000/60000 (7%)]\t1.544382\n",
            "Train Epoch: 9 [6000/60000 (10%)]\t1.522696\n",
            "Train Epoch: 9 [8000/60000 (13%)]\t1.561128\n",
            "Train Epoch: 9 [10000/60000 (17%)]\t1.494489\n",
            "Train Epoch: 9 [12000/60000 (20%)]\t1.492508\n",
            "Train Epoch: 9 [14000/60000 (23%)]\t1.536240\n",
            "Train Epoch: 9 [16000/60000 (27%)]\t1.524058\n",
            "Train Epoch: 9 [18000/60000 (30%)]\t1.519158\n",
            "Train Epoch: 9 [20000/60000 (33%)]\t1.515503\n",
            "Train Epoch: 9 [22000/60000 (37%)]\t1.523083\n",
            "Train Epoch: 9 [24000/60000 (40%)]\t1.540478\n",
            "Train Epoch: 9 [26000/60000 (43%)]\t1.542109\n",
            "Train Epoch: 9 [28000/60000 (47%)]\t1.500535\n",
            "Train Epoch: 9 [30000/60000 (50%)]\t1.497890\n",
            "Train Epoch: 9 [32000/60000 (53%)]\t1.527922\n",
            "Train Epoch: 9 [34000/60000 (57%)]\t1.559208\n",
            "Train Epoch: 9 [36000/60000 (60%)]\t1.542290\n",
            "Train Epoch: 9 [38000/60000 (63%)]\t1.536501\n",
            "Train Epoch: 9 [40000/60000 (67%)]\t1.557486\n",
            "Train Epoch: 9 [42000/60000 (70%)]\t1.530678\n",
            "Train Epoch: 9 [44000/60000 (73%)]\t1.511441\n",
            "Train Epoch: 9 [46000/60000 (77%)]\t1.526961\n",
            "Train Epoch: 9 [48000/60000 (80%)]\t1.512284\n",
            "Train Epoch: 9 [50000/60000 (83%)]\t1.507619\n",
            "Train Epoch: 9 [52000/60000 (87%)]\t1.486588\n",
            "Train Epoch: 9 [54000/60000 (90%)]\t1.487224\n",
            "Train Epoch: 9 [56000/60000 (93%)]\t1.538153\n",
            "Train Epoch: 9 [58000/60000 (97%)]\t1.536315\n",
            "\n",
            "Test set: Average loss: 0.0149, Accuract 9744/10000 (97)\n",
            "Train Epoch: 10 [0/60000 (0%)]\t1.545131\n",
            "Train Epoch: 10 [2000/60000 (3%)]\t1.544088\n",
            "Train Epoch: 10 [4000/60000 (7%)]\t1.559199\n",
            "Train Epoch: 10 [6000/60000 (10%)]\t1.534634\n",
            "Train Epoch: 10 [8000/60000 (13%)]\t1.550068\n",
            "Train Epoch: 10 [10000/60000 (17%)]\t1.495232\n",
            "Train Epoch: 10 [12000/60000 (20%)]\t1.505837\n",
            "Train Epoch: 10 [14000/60000 (23%)]\t1.544632\n",
            "Train Epoch: 10 [16000/60000 (27%)]\t1.528935\n",
            "Train Epoch: 10 [18000/60000 (30%)]\t1.518476\n",
            "Train Epoch: 10 [20000/60000 (33%)]\t1.550707\n",
            "Train Epoch: 10 [22000/60000 (37%)]\t1.551286\n",
            "Train Epoch: 10 [24000/60000 (40%)]\t1.513854\n",
            "Train Epoch: 10 [26000/60000 (43%)]\t1.550106\n",
            "Train Epoch: 10 [28000/60000 (47%)]\t1.529603\n",
            "Train Epoch: 10 [30000/60000 (50%)]\t1.495725\n",
            "Train Epoch: 10 [32000/60000 (53%)]\t1.499245\n",
            "Train Epoch: 10 [34000/60000 (57%)]\t1.514279\n",
            "Train Epoch: 10 [36000/60000 (60%)]\t1.503345\n",
            "Train Epoch: 10 [38000/60000 (63%)]\t1.544487\n",
            "Train Epoch: 10 [40000/60000 (67%)]\t1.481290\n",
            "Train Epoch: 10 [42000/60000 (70%)]\t1.520880\n",
            "Train Epoch: 10 [44000/60000 (73%)]\t1.538796\n",
            "Train Epoch: 10 [46000/60000 (77%)]\t1.498713\n",
            "Train Epoch: 10 [48000/60000 (80%)]\t1.504391\n",
            "Train Epoch: 10 [50000/60000 (83%)]\t1.547461\n",
            "Train Epoch: 10 [52000/60000 (87%)]\t1.549150\n",
            "Train Epoch: 10 [54000/60000 (90%)]\t1.504241\n",
            "Train Epoch: 10 [56000/60000 (93%)]\t1.490937\n",
            "Train Epoch: 10 [58000/60000 (97%)]\t1.527075\n",
            "\n",
            "Test set: Average loss: 0.0149, Accuract 9756/10000 (98)\n"
          ]
        }
      ]
    }
  ]
}